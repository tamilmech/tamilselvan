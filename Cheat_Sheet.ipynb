{
  "nbformat": 4,
  "nbformat_minor": 0,
  "metadata": {
    "colab": {
      "provenance": [],
      "toc_visible": true,
      "include_colab_link": true
    },
    "kernelspec": {
      "name": "python3",
      "display_name": "Python 3"
    },
    "language_info": {
      "name": "python"
    }
  },
  "cells": [
    {
      "cell_type": "markdown",
      "metadata": {
        "id": "view-in-github",
        "colab_type": "text"
      },
      "source": [
        "<a href=\"https://colab.research.google.com/github/tamilmech/tamilselvan/blob/main/Cheat_Sheet.ipynb\" target=\"_parent\"><img src=\"https://colab.research.google.com/assets/colab-badge.svg\" alt=\"Open In Colab\"/></a>"
      ]
    },
    {
      "cell_type": "markdown",
      "source": [
        "# Supervised Learning Algorithms:"
      ],
      "metadata": {
        "id": "g2JlHewkRDRH"
      }
    },
    {
      "cell_type": "markdown",
      "source": [
        "## Linear Regression:\n",
        "\n",
        "Used for regression tasks where the target variable is continuous.\n",
        "Assumes a linear relationship between features and target variable."
      ],
      "metadata": {
        "id": "-ukNecVCRNGj"
      }
    },
    {
      "cell_type": "markdown",
      "source": [
        "## Logistic Regression:\n",
        "\n",
        "Used for binary classification tasks.\n",
        "Estimates the probability that a given input belongs to a certain category."
      ],
      "metadata": {
        "id": "J-2_r37rRXrW"
      }
    },
    {
      "cell_type": "markdown",
      "source": [
        "## Decision Trees:\n",
        "\n",
        "Used for both classification and regression tasks.\n",
        "Learns decision rules to split the data based on features."
      ],
      "metadata": {
        "id": "kmAZ9l2HRaVs"
      }
    },
    {
      "cell_type": "markdown",
      "source": [
        "## Random Forest:\n",
        "\n",
        "Ensemble learning method combining multiple decision trees.\n",
        "Reduces overfitting and increases accuracy compared to a single decision tree."
      ],
      "metadata": {
        "id": "PsQSeY7qRf-F"
      }
    },
    {
      "cell_type": "markdown",
      "source": [
        "## Support Vector Machines (SVM):\n",
        "\n",
        "Effective for both classification and regression tasks.\n",
        "Finds the hyperplane that best separates classes in high-dimensional space."
      ],
      "metadata": {
        "id": "O5iYlXsgRjuN"
      }
    },
    {
      "cell_type": "markdown",
      "source": [
        "## Gradient Boosting Machines (GBM):\n",
        "\n",
        "Builds multiple weak models sequentially, each correcting errors of its predecessor.\n",
        "Often used with decision trees as base learners.\n"
      ],
      "metadata": {
        "id": "x1FjJnF8RmFP"
      }
    },
    {
      "cell_type": "markdown",
      "source": [
        "# Unsupervised Learning Algorithms:"
      ],
      "metadata": {
        "id": "3O3qvjRsRohQ"
      }
    },
    {
      "cell_type": "markdown",
      "source": [
        "## K-Means Clustering:\n",
        "\n",
        "Divides data points into k clusters based on feature similarity.\n",
        "Minimizes intra-cluster variance."
      ],
      "metadata": {
        "id": "QiYzUS2jZZb6"
      }
    },
    {
      "cell_type": "markdown",
      "source": [],
      "metadata": {
        "id": "ar3htagMZfBJ"
      }
    },
    {
      "cell_type": "markdown",
      "source": [
        "## Principal Component Analysis (PCA):\n",
        "\n",
        "Reduces dimensionality of data while retaining most important features.\n",
        "Identifies patterns and relationships in high-dimensional data."
      ],
      "metadata": {
        "id": "KaiyPvkDZrVv"
      }
    },
    {
      "cell_type": "markdown",
      "source": [
        "## Anomaly Detection:\n",
        "\n",
        "Identifies outliers or anomalies in data that deviate significantly from the norm.\n",
        "Can be based on statistical methods or machine learning algorithms."
      ],
      "metadata": {
        "id": "j946aNR-ZvC_"
      }
    },
    {
      "cell_type": "markdown",
      "source": [
        "## Association Rule Learning (e.g., Apriori Algorithm):\n",
        "\n",
        "Discovers interesting relationships between variables in large datasets.\n",
        "Commonly used in market basket analysis."
      ],
      "metadata": {
        "id": "IiQFGCJdZy8M"
      }
    },
    {
      "cell_type": "code",
      "source": [],
      "metadata": {
        "id": "saBjY5BcRRnM"
      },
      "execution_count": null,
      "outputs": []
    },
    {
      "cell_type": "markdown",
      "source": [
        "# Data Analysis Libraries"
      ],
      "metadata": {
        "id": "2a8CgvNDaNXE"
      }
    },
    {
      "cell_type": "markdown",
      "source": [
        "## Pandas:\n",
        "\n",
        "Data manipulation and analysis library.\n",
        "Provides data structures like DataFrame and Series.\n",
        "Offers functionality for reading/writing data, data cleaning, filtering, grouping, and more."
      ],
      "metadata": {
        "id": "yivtMQenaRU9"
      }
    },
    {
      "cell_type": "markdown",
      "source": [
        "## NumPy:\n",
        "\n",
        "Fundamental package for scientific computing with Python.\n",
        "Provides support for multidimensional arrays and matrices.\n",
        "Offers mathematical functions to operate on these arrays."
      ],
      "metadata": {
        "id": "23mNQ88Gacqe"
      }
    },
    {
      "cell_type": "markdown",
      "source": [
        "##Matplotlib:\n",
        "\n",
        "2D plotting library for creating static, interactive, and animated visualizations in Python.\n",
        "Capable of creating various types of plots like line plots, scatter plots, histograms, etc."
      ],
      "metadata": {
        "id": "Ho2nP28cafK6"
      }
    },
    {
      "cell_type": "markdown",
      "source": [
        "## Seaborn:\n",
        "\n",
        "Statistical data visualization library based on Matplotlib.\n",
        "Provides a high-level interface for drawing attractive and informative statistical graphics."
      ],
      "metadata": {
        "id": "79EXOUThajXb"
      }
    },
    {
      "cell_type": "markdown",
      "source": [
        "##Scikit-learn\n",
        "\n",
        "Simple and efficient tools for data mining and data analysis.\n",
        "Provides various machine learning algorithms for classification, regression, clustering, dimensionality reduction, etc."
      ],
      "metadata": {
        "id": "uI2LGNZiamDi"
      }
    },
    {
      "cell_type": "markdown",
      "source": [
        "# Data Analysis Techniques"
      ],
      "metadata": {
        "id": "cQ547vjfa4c5"
      }
    },
    {
      "cell_type": "markdown",
      "source": [
        "## Data Cleaning:\n",
        "\n",
        "Handling missing values (fillna, dropna).\n",
        "Removing duplicates (drop_duplicates).\n",
        "Data type conversion (astype)."
      ],
      "metadata": {
        "id": "jxOaw0Pza8k8"
      }
    },
    {
      "cell_type": "markdown",
      "source": [
        "## Exploratory Data Analysis (EDA):\n",
        "\n",
        "Summary statistics (describe).\n",
        "Data visualization (Matplotlib, Seaborn).\n",
        "Correlation analysis (corr)."
      ],
      "metadata": {
        "id": "SFHQcM_0a_tu"
      }
    },
    {
      "cell_type": "markdown",
      "source": [
        "## Data Manipulation:\n",
        "\n",
        "Indexing and selecting data (loc, iloc).\n",
        "Filtering data (query, boolean indexing).\n",
        "Grouping and aggregation (groupby, agg).\n",
        "\n",
        "\n",
        "\n"
      ],
      "metadata": {
        "id": "AlDVU_c2bGzY"
      }
    },
    {
      "cell_type": "markdown",
      "source": [
        "## Feature Engineering:\n",
        "\n",
        "Creating new features.\n",
        "Handling categorical variables (one-hot encoding, label encoding).\n",
        "Scaling and normalization."
      ],
      "metadata": {
        "id": "UX54NDXYbRNh"
      }
    },
    {
      "cell_type": "markdown",
      "source": [
        "## Statistical Analysis:\n",
        "\n",
        "Hypothesis testing (t-test, ANOVA).\n",
        "Regression analysis (OLS, logistic regression).\n",
        "Time series analysis (ARIMA, seasonal decomposition)."
      ],
      "metadata": {
        "id": "0Juz0WAgbUDi"
      }
    },
    {
      "cell_type": "markdown",
      "source": [
        "## Machine Learning:\n",
        "\n",
        "Model selection and evaluation (train_test_split, cross_val_score).\n",
        "Model training and prediction.\n",
        "Hyperparameter tuning (GridSearchCV, RandomizedSearchCV)."
      ],
      "metadata": {
        "id": "jL0kWmuFbYte"
      }
    },
    {
      "cell_type": "markdown",
      "source": [
        "## Data Visualization:\n",
        "\n",
        "Customizing plots (labels, titles, legends).\n",
        "Plotting multiple subplots.\n",
        "Interactive visualization (Plotly, Bokeh)."
      ],
      "metadata": {
        "id": "PE6X94-Ibbhp"
      }
    },
    {
      "cell_type": "markdown",
      "source": [
        "## Reporting and Presentation:\n",
        "\n",
        "Generating reports (Jupyter Notebooks, Markdown).\n",
        "Creating interactive dashboards (Dash, Streamlit).\n",
        "Communicating findings effectively."
      ],
      "metadata": {
        "id": "qzCXnGJ2beOU"
      }
    },
    {
      "cell_type": "code",
      "source": [],
      "metadata": {
        "id": "9X-cVpPyaQjK"
      },
      "execution_count": null,
      "outputs": []
    },
    {
      "cell_type": "markdown",
      "source": [
        "# NumPy\n",
        "\n",
        "NumPy is a Python library for numerical computing, providing support for large, multi-dimensional arrays and matrices, along with a collection of mathematical functions to operate on these arrays efficiently."
      ],
      "metadata": {
        "id": "wvFsan8MclNC"
      }
    },
    {
      "cell_type": "markdown",
      "source": [
        "## Create an array from a list\n",
        "arr = np.array([1, 2, 3])"
      ],
      "metadata": {
        "id": "9vNWCDvBcylz"
      }
    },
    {
      "cell_type": "markdown",
      "source": [
        "## Create a 2D array (matrix)\n",
        "matrix = np.array([[1, 2, 3], [4, 5, 6]])"
      ],
      "metadata": {
        "id": "DdFwx8Pgc4yp"
      }
    },
    {
      "cell_type": "markdown",
      "source": [
        "## Create arrays with specific values\n",
        "zeros_arr = np.zeros((3, 3))  # Array of zeros\n",
        "ones_arr = np.ones((2, 2))  # Array of ones\n",
        "random_arr = np.random.rand(2, 2)  # Array of random numbers"
      ],
      "metadata": {
        "id": "z0hXn7PUc9J1"
      }
    },
    {
      "cell_type": "markdown",
      "source": [],
      "metadata": {
        "id": "wusg-tldfEkP"
      }
    },
    {
      "cell_type": "code",
      "source": [],
      "metadata": {
        "id": "Xepl0Z_PcnJE"
      },
      "execution_count": null,
      "outputs": []
    },
    {
      "cell_type": "markdown",
      "source": [
        "## Element-wise addition, subtraction, multiplication, and division\n",
        "arr1 + arr2\n",
        "arr1 - arr2\n",
        "arr1 * arr2\n",
        "arr1 / arr2\n",
        "\n",
        "## Dot product of arrays\n",
        "np.dot(arr1, arr2)\n"
      ],
      "metadata": {
        "id": "Kl8UfxB2dUcc"
      }
    },
    {
      "cell_type": "markdown",
      "source": [
        "\n",
        "## Transpose of a matrix\n",
        "matrix.T\n",
        "\n"
      ],
      "metadata": {
        "id": "OIxvjTFWdh4G"
      }
    },
    {
      "cell_type": "markdown",
      "source": [
        "\n",
        "## Element-wise operations\n",
        "\n",
        "```\n",
        "np.sin(arr)\n",
        "np.cos(arr)\n",
        "np.exp(arr)\n",
        "np.sqrt(arr)\n",
        "```\n",
        "\n",
        "\n"
      ],
      "metadata": {
        "id": "6Kv1f887djgw"
      }
    },
    {
      "cell_type": "markdown",
      "source": [
        "\n",
        "## Reshape array\n",
        "`arr.reshape((2, 2))`"
      ],
      "metadata": {
        "id": "T_d51-3LdlO6"
      }
    },
    {
      "cell_type": "markdown",
      "source": [
        "\n",
        "## Dot product of arrays\n",
        "`np.dot(arr1, arr2)`\n"
      ],
      "metadata": {
        "id": "3F4HSiItdxmU"
      }
    },
    {
      "cell_type": "markdown",
      "source": [
        "\n",
        "## Element-wise operations\n",
        "\n",
        "\n",
        "```\n",
        "np.sin(arr)\n",
        "np.cos(arr)\n",
        "np.exp(arr)\n",
        "np.sqrt(arr)\n",
        "```\n",
        "\n",
        "\n"
      ],
      "metadata": {
        "id": "hFE-2DAVd0Wn"
      }
    },
    {
      "cell_type": "markdown",
      "source": [
        "## Accessing elements\n",
        "\n",
        "\n",
        "```\n",
        "arr[0]  # Access first element\n",
        "matrix[1, 2]  # Access element at row 1, column 2\n",
        "```\n",
        "\n",
        "\n"
      ],
      "metadata": {
        "id": "PFUnOBOsd5ev"
      }
    },
    {
      "cell_type": "markdown",
      "source": [
        "## Slicing\n",
        "\n",
        "\n",
        "```\n",
        "arr[:2]  # First two elements\n",
        "matrix[:, 1]  # Second column\n",
        "matrix[1, :]  # Second row\n",
        "```\n",
        "\n",
        "\n"
      ],
      "metadata": {
        "id": "zVTnU1a2d7ZZ"
      }
    },
    {
      "cell_type": "markdown",
      "source": [
        "## Sum, mean, min, max\n",
        "\n",
        "\n",
        "```\n",
        "np.sum(arr)\n",
        "np.mean(matrix)\n",
        "np.min(matrix)\n",
        "np.max(matrix)\n",
        "```\n",
        "\n",
        "\n"
      ],
      "metadata": {
        "id": "8JOrGrjjej0Y"
      }
    },
    {
      "cell_type": "markdown",
      "source": [
        "\n",
        "## Aggregation along axis\n",
        "\n",
        "\n",
        "```\n",
        "np.sum(matrix, axis=0)  # Sum along columns\n",
        "np.mean(matrix, axis=1)  # Mean along rows\n",
        "```\n",
        "\n",
        "\n"
      ],
      "metadata": {
        "id": "s2MaSCLZeqVC"
      }
    },
    {
      "cell_type": "code",
      "source": [],
      "metadata": {
        "id": "DuTzjyuqdXke"
      },
      "execution_count": null,
      "outputs": []
    },
    {
      "cell_type": "markdown",
      "source": [
        "# Pandas\n",
        "\n",
        "Pandas is a Python library for data manipulation and analysis, providing powerful data structures and tools for working with structured data."
      ],
      "metadata": {
        "id": "nBWCqcj2fVJb"
      }
    },
    {
      "cell_type": "markdown",
      "source": [
        "## Creating DataFrame\n",
        "`import pandas as pd`  ## Importing Pandas library\n",
        "\n",
        "\n",
        "```\n",
        "data = {'Name': ['Alice', 'Bob', 'Charlie', 'David'],\n",
        "        'Age': [25, 30, 35, 40],\n",
        "        'Salary': [50000, 60000, 70000, 80000]}\n",
        "df = pd.DataFrame(data)  ## Creating DataFrame from dictionary\n",
        "```\n",
        "\n",
        "# Reading Data\n",
        "```\n",
        "df = pd.read_csv('data.csv')  ## Reading data from CSV file\n",
        "df = pd.read_excel('data.xlsx')  ## Reading data from Excel file\n",
        "```\n",
        "\n",
        "# Viewing Data\n",
        "```\n",
        "df.head()  ## View first 5 rows of DataFrame\n",
        "df.tail()  ## View last 5 rows of DataFrame\n",
        "df.sample(5)  ## View random 5 rows of DataFrame\n",
        "df.shape  ## Get the dimensions of DataFrame\n",
        "df.columns  ## Get the column names of DataFrame\n",
        "df.info()  ## Get concise summary of DataFrame\n",
        "df.describe()  ## Get statistical summary of DataFrame\n",
        "```\n",
        "\n",
        "# Selecting Data\n",
        "```\n",
        "df['column_name']  ## Selecting a single column\n",
        "df[['column1', 'column2']]  ## Selecting multiple columns\n",
        "df.loc[row_label]  ## Selecting row by label\n",
        "df.iloc[row_index]  ## Selecting row by index\n",
        "df.loc[row_label, 'column_name']  ## Selecting specific cell by label\n",
        "df.iloc[row_index, column_index]  ## Selecting specific cell by index\n",
        "df.query('condition')  ## Selecting rows based on condition\n",
        "```\n",
        "# Data Cleaning\n",
        "```\n",
        "df.dropna()  ## Remove rows with missing values\n",
        "df.fillna(value)  ## Fill missing values with specified value\n",
        "df.drop_duplicates()  ## Remove duplicate rows\n",
        "df.drop(columns=['column_name'])  ## Remove column\n",
        "df.rename(columns={'old_name': 'new_name'})  ## Rename column\n",
        "df.astype({'column_name': 'new_dtype'})  ## Change data type of column\n",
        "```\n",
        "# Data Manipulation\n",
        "```\n",
        "df['new_column'] = df['column1'] + df['column2']  ## Creating new column\n",
        "df['new_column'] = df.apply(lambda row: function(row), axis=1)  ## Apply function to each row\n",
        "df['new_column'] = df['column'].map(mapping_dict)  ## Mapping values based on dictionary\n",
        "df.groupby('column_name').agg({'column': 'function'})  ## Group by and aggregate\n",
        "```\n",
        "# Data Visualization\n",
        "```\n",
        "df['column'].plot(kind='bar')  ## Plotting a bar chart\n",
        "df.plot(x='x_column', y='y_column')  ## Plotting a line chart\n",
        "df.plot.scatter(x='x_column', y='y_column')  ## Plotting a scatter plot\n",
        "```\n",
        "# Saving Data\n",
        "```\n",
        "df.to_csv('new_data.csv', index=False)  ## Saving DataFrame to CSV file\n",
        "df.to_excel('new_data.xlsx', index=False)  ## Saving DataFrame to Excel file\n",
        "\n",
        "```\n",
        "\n"
      ],
      "metadata": {
        "id": "q6lK-ztWf4HK"
      }
    },
    {
      "cell_type": "markdown",
      "source": [
        "# Matplotlib"
      ],
      "metadata": {
        "id": "l038ZMS03gxd"
      }
    },
    {
      "cell_type": "markdown",
      "source": [
        "## Importing Matplotlib\n",
        "`import matplotlib.pyplot as plt`\n",
        "\n",
        "## Sample data\n",
        "```\n",
        "x = [1, 2, 3, 4, 5]\n",
        "y = [2, 4, 6, 8, 10]\n",
        "```\n",
        "## Line Plot\n",
        "```\n",
        "plt.plot(x, y)\n",
        "plt.xlabel('X-axis label')\n",
        "plt.ylabel('Y-axis label')\n",
        "plt.title('Line Plot')\n",
        "plt.show()\n",
        "```\n",
        "\n",
        "## Scatter Plot\n",
        "```\n",
        "plt.scatter(x, y)\n",
        "plt.xlabel('X-axis label')\n",
        "plt.ylabel('Y-axis label')\n",
        "plt.title('Scatter Plot')\n",
        "plt.show()\n",
        "```\n",
        "## Bar Plot\n",
        "```\n",
        "plt.bar(x, y)\n",
        "plt.xlabel('X-axis label')\n",
        "plt.ylabel('Y-axis label')\n",
        "plt.title('Bar Plot')\n",
        "plt.show()\n",
        "```\n",
        "## Histogram\n",
        "```\n",
        "plt.hist(y, bins=5)\n",
        "plt.xlabel('Value')\n",
        "plt.ylabel('Frequency')\n",
        "plt.title('Histogram')\n",
        "plt.show()\n",
        "```\n",
        "## Box Plot\n",
        "```\n",
        "plt.boxplot(y)\n",
        "plt.ylabel('Value')\n",
        "plt.title('Box Plot')\n",
        "plt.show()\n",
        "```\n",
        "## Pie Chart\n",
        "```\n",
        "plt.pie(y, labels=x, autopct='%1.1f%%')\n",
        "plt.title('Pie Chart')\n",
        "plt.show()\n",
        "```\n"
      ],
      "metadata": {
        "id": "rUg1OJQ83jjl"
      }
    },
    {
      "cell_type": "code",
      "source": [],
      "metadata": {
        "id": "lCjJ4fEWfVmr"
      },
      "execution_count": null,
      "outputs": []
    },
    {
      "cell_type": "markdown",
      "source": [
        "# Seaborn\n",
        "\n",
        "Seaborn is a Python visualization library based on Matplotlib, providing high-level interfaces for creating informative statistical graphics."
      ],
      "metadata": {
        "id": "6I748U1M5GUr"
      }
    },
    {
      "cell_type": "markdown",
      "source": [
        "## Sample data\n",
        "\n",
        "\n",
        "```\n",
        "import seaborn as sns\n",
        "import pandas as pd\n",
        "```\n",
        "\n",
        "\n",
        "\n",
        "# Creating sample DataFrame\n",
        "```\n",
        "data = {'Category': ['A', 'B', 'A', 'B', 'A'],\n",
        "        'Value': [10, 20, 30, 40, 50]}\n",
        "df = pd.DataFrame(data)\n",
        "```\n",
        "## Scatter Plot\n",
        "```\n",
        "sns.scatterplot(x='x_column', y='y_column', data=df)\n",
        "```\n",
        "## Line Plot\n",
        "```\n",
        "sns.lineplot(x='x_column', y='y_column', data=df)\n",
        "```\n",
        "## Bar Plot\n",
        "```\n",
        "x='x_column', y='y_column', data=df)\n",
        "```\n",
        "## Histogram\n",
        "```\n",
        "sns.histplot(x='column', data=df)\n",
        "```\n",
        "## Box Plot\n",
        "```\n",
        "sns.boxplot(x='x_column', y='y_column', data=df)\n",
        "```\n",
        "## Heatmap\n",
        "```\n",
        "sns.heatmap(data=df.corr(), annot=True)\n",
        "```\n",
        "## Pairplot\n",
        "```\n",
        "sns.pairplot(data=df)\n",
        "```\n",
        "## Violin Plot\n",
        "```\n",
        "sns.violinplot(x='x_column', y='y_column', data=df)\n",
        "```"
      ],
      "metadata": {
        "id": "wiBKwYek58dg"
      }
    },
    {
      "cell_type": "markdown",
      "source": [
        "#Scikit-learn"
      ],
      "metadata": {
        "id": "gQnxAew48isT"
      }
    },
    {
      "cell_type": "markdown",
      "source": [
        "`import pandas as pd`\n",
        "\n",
        "\n",
        "\n",
        "\n",
        "```\n",
        "# Assuming 'X' as features and 'y' as target variables\n",
        "X = df[['feature1', 'feature2', ...]]\n",
        "y = df['target']\n",
        "```\n",
        "## Train/Test Split\n",
        "\n",
        "\n",
        "```\n",
        "from sklearn.model_selection import train_test_split\n",
        "X_train, X_test, y_train, y_test = train_test_split(X, y, test_size=0.2, random_state=42)\n",
        "```\n",
        "\n",
        "\n",
        "\n"
      ],
      "metadata": {
        "id": "QPrLFxyZ8nHp"
      }
    },
    {
      "cell_type": "markdown",
      "source": [
        "##Model Initialization\n",
        "\n",
        "\n",
        "\n",
        "```\n",
        "from sklearn.linear_model import LinearRegression\n",
        "model = LinearRegression()\n",
        "```\n",
        "\n"
      ],
      "metadata": {
        "id": "G4DBLEhnDZJB"
      }
    },
    {
      "cell_type": "markdown",
      "source": [
        "## Model Training\n",
        "\n",
        "model.fit(X_train, y_train)"
      ],
      "metadata": {
        "id": "AaEK8NGaX8FW"
      }
    },
    {
      "cell_type": "markdown",
      "source": [
        "## Model Prediction\n",
        "\n",
        "\n",
        "```\n",
        "y_pred = model.predict(X_test)\n",
        "\n",
        "```\n",
        "\n"
      ],
      "metadata": {
        "id": "odKokoIvYCjr"
      }
    },
    {
      "cell_type": "markdown",
      "source": [
        "## Model Evaluation\n",
        "\n",
        "\n",
        "\n",
        "```\n",
        "from sklearn.metrics import mean_squared_error\n",
        "mse = mean_squared_error(y_test, y_pred)\n",
        "```\n",
        "\n"
      ],
      "metadata": {
        "id": "2KKJS1XLYHKu"
      }
    },
    {
      "cell_type": "markdown",
      "source": [
        "## Cross-Validation\n",
        "\n",
        "\n",
        "\n",
        "```\n",
        "# This is formatted as codefrom sklearn.model_selection import cross_val_score\n",
        "cv_scores = cross_val_score(model, X, y, cv=5)\n",
        "```\n"
      ],
      "metadata": {
        "id": "c1Kyd5PgYOL9"
      }
    },
    {
      "cell_type": "markdown",
      "source": [
        "# Seaborn import  codes\n",
        "\n",
        "\n",
        "\n",
        "\n",
        "# Import necessary libraries\n",
        "\n",
        "```\n",
        "from sklearn.model_selection import train_test_split\n",
        "from sklearn.preprocessing import StandardScaler\n",
        "from sklearn.linear_model import LinearRegression, LogisticRegression\n",
        "from sklearn.tree import DecisionTreeClassifier, DecisionTreeRegressor\n",
        "from sklearn.ensemble import RandomForestClassifier, RandomForestRegressor\n",
        "from sklearn.svm import SVC, SVR\n",
        "from sklearn.neighbors import KNeighborsClassifier, KNeighborsRegressor\n",
        "```\n",
        "```\n",
        "```\n",
        "# Example usage:\n",
        "\n",
        "\n",
        "```\n",
        "```\n",
        "```\n",
        "Assuming X_train, X_test, y_train, y_test are your training and testing data\n",
        "```\n",
        "\n",
        "```\n",
        "```\n",
        "\n",
        "\n",
        "## Linear Regression\n",
        "```\n",
        "linear_reg = LinearRegression()\n",
        "linear_reg.fit(X_train, y_train)\n",
        "```\n",
        "## Logistic Regression\n",
        "```\n",
        "logistic_reg = LogisticRegression()\n",
        "logistic_reg.fit(X_train, y_train)\n",
        "```\n",
        "\n",
        "## Decision Tree Classifier\n",
        "```\n",
        "dt_classifier = DecisionTreeClassifier()\n",
        "dt_classifier.fit(X_train, y_train)\n",
        "```\n",
        "## Decision Tree Regressor\n",
        "```\n",
        "dt_regressor = DecisionTreeRegressor()\n",
        "dt_regressor.fit(X_train, y_train)\n",
        "```\n",
        "\n",
        "## Random Forest Classifier\n",
        "```\n",
        "rf_classifier = RandomForestClassifier()\n",
        "rf_classifier.fit(X_train, y_train)\n",
        "```\n",
        "\n",
        "## Random Forest Regressor\n",
        "```\n",
        "rf_regressor = RandomForestRegressor()\n",
        "rf_regressor.fit(X_train, y_train)\n",
        "```\n",
        "\n",
        "## Support Vector Classifier (SVC)\n",
        "```\n",
        "svc = SVC()\n",
        "svc.fit(X_train, y_train)\n",
        "```\n",
        "\n",
        "## Support Vector Regressor (SVR)\n",
        "```\n",
        "svr = SVR()\n",
        "svr.fit(X_train, y_train)\n",
        "```\n",
        "\n",
        "## K-Nearest Neighbors Classifier\n",
        "```\n",
        "knn_classifier = KNeighborsClassifier()\n",
        "knn_classifier.fit(X_train, y_train)\n",
        "```\n",
        "## K-Nearest Neighbors Regressor\n",
        "```\n",
        "knn_regressor = KNeighborsRegressor()\n",
        "knn_regressor.fit(X_train, y_train)\n",
        "\n",
        "```\n",
        "\n"
      ],
      "metadata": {
        "id": "i1ReErzIZgBb"
      }
    },
    {
      "cell_type": "code",
      "source": [],
      "metadata": {
        "id": "EZwTT8xepzGi"
      },
      "execution_count": null,
      "outputs": []
    },
    {
      "cell_type": "markdown",
      "source": [
        "# Cross val score\n"
      ],
      "metadata": {
        "id": "h44kjT8SjNee"
      }
    },
    {
      "cell_type": "code",
      "source": [
        "from sklearn.model_selection import cross_val_score\n",
        "from sklearn.linear_model import LinearRegression"
      ],
      "metadata": {
        "id": "lWNzFG2ljUsN"
      },
      "execution_count": null,
      "outputs": []
    },
    {
      "cell_type": "code",
      "source": [],
      "metadata": {
        "id": "u0eFUsgJjc1X"
      },
      "execution_count": null,
      "outputs": []
    },
    {
      "cell_type": "code",
      "source": [],
      "metadata": {
        "id": "i3qky0Ydj4Go"
      },
      "execution_count": null,
      "outputs": []
    }
  ]
}