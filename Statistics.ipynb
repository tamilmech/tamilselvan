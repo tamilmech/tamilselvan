{
  "nbformat": 4,
  "nbformat_minor": 0,
  "metadata": {
    "colab": {
      "private_outputs": true,
      "provenance": [],
      "toc_visible": true,
      "authorship_tag": "ABX9TyPh9KDdn0L9jzdlNsIWXDcm",
      "include_colab_link": true
    },
    "kernelspec": {
      "name": "python3",
      "display_name": "Python 3"
    },
    "language_info": {
      "name": "python"
    }
  },
  "cells": [
    {
      "cell_type": "markdown",
      "metadata": {
        "id": "view-in-github",
        "colab_type": "text"
      },
      "source": [
        "<a href=\"https://colab.research.google.com/github/tamilmech/tamilselvan/blob/main/Statistics.ipynb\" target=\"_parent\"><img src=\"https://colab.research.google.com/assets/colab-badge.svg\" alt=\"Open In Colab\"/></a>"
      ]
    },
    {
      "cell_type": "code",
      "execution_count": null,
      "metadata": {
        "id": "A64qJQMaxc00"
      },
      "outputs": [],
      "source": []
    },
    {
      "cell_type": "markdown",
      "source": [
        "# what is statistics and its type\n",
        "In data science, statistics is the practice of collecting, organizing, analyzing, interpreting, and presenting numerical data to understand patterns, trends, and relationships within the data.\n",
        "\n",
        "\n",
        "##Descriptive Statistics:\n",
        " Descriptive statistics involve methods for summarizing and describing the features of a dataset. This includes measures such as mean, median, mode, standard deviation, and range.\n",
        "\n",
        "##Inferential Statistics:\n",
        "Inferential statistics involve making predictions or inferences about a population based on a sample of data. This includes techniques such as hypothesis testing, confidence intervals, and regression analysis.\n",
        "\n",
        "\n"
      ],
      "metadata": {
        "id": "5xr2TlaHxyai"
      }
    },
    {
      "cell_type": "markdown",
      "source": [
        "#probablity intodution\n",
        "Probabilty is a mesure of the chance of an event happing.\n",
        "it ranges from  0 (impossible) to 1(certain)\n",
        "\n",
        "it calculated by favarable outcomes by  possible outcomes"
      ],
      "metadata": {
        "id": "QEVkMewMzXoH"
      }
    },
    {
      "cell_type": "markdown",
      "source": [
        "# Additional rule of probability\n",
        "\n",
        "\n",
        "```\n",
        "P(A or B)=P(A)+P(B)−P(A and B)\n",
        "P(A ∪ B)= P(A) + P(B) – P(A ∩ B)\n",
        "\n",
        "\n",
        "```\n",
        "\n"
      ],
      "metadata": {
        "id": "JjHQrGWU0XSU"
      }
    },
    {
      "cell_type": "markdown",
      "source": [
        "# multiplication rule\n",
        "\n",
        "## independent events.\n",
        "Suppose that we are going to roll two fair\n",
        "\n",
        "(6 sided dice)\n",
        "\n",
        "Find the probability that both dice show a 3\n",
        "1/36\n",
        "\n",
        "\n",
        "```\n",
        "P(A and B)=P(A) x P(B)\n",
        "```\n",
        "\n",
        "\n",
        "\n",
        "## dependent events\n",
        "```\n",
        "P(A and B)=P(A) x P(A|B)\n",
        "```\n",
        "\n",
        "\n",
        "\n"
      ],
      "metadata": {
        "id": "Q7DVVuWsAyfb"
      }
    },
    {
      "cell_type": "markdown",
      "source": [
        "# descriptive and inferancial statistics"
      ],
      "metadata": {
        "id": "jloMl6R22DZC"
      }
    },
    {
      "cell_type": "markdown",
      "source": [
        "# prompt: diff between descriptive stats and inferantial state\n",
        "\n",
        "**Descriptive Statistics**\n",
        "\n",
        "avg,min,max,variance,std\n",
        "summarize data\n",
        "\n",
        "using sample or population\n",
        "\n",
        "**Inferential Statistics**\n",
        "hypothesis testing,confidence intervel,regression\n",
        "\n",
        "predict about population\n",
        "using sample"
      ],
      "metadata": {
        "id": "C2LYYBr_Rm2X"
      }
    },
    {
      "cell_type": "markdown",
      "source": [
        "#population and sample\n",
        "\n",
        "\n",
        "## Population:\n",
        "The entire group of individuals or objects about which you want to make inferences or draw conclusions.\n",
        "Example: All students in a university.\n",
        "\n",
        "## Sample:\n",
        "A subset of the population that is selected to represent the entire population.\n",
        "Example: A group of 100 students randomly selected from the university.\n",
        "\n",
        "## Key points:\n",
        "\n",
        "The sample should be representative of the population.\n",
        "The sample size should be large enough to provide reliable results.\n",
        "\n"
      ],
      "metadata": {
        "id": "ttFOuVFkR_NO"
      }
    },
    {
      "cell_type": "markdown",
      "source": [],
      "metadata": {
        "id": "qA_eNPM7SXF3"
      }
    },
    {
      "cell_type": "markdown",
      "source": [
        "# measures of central tendency\n",
        "\n",
        "## mean -> avg\n",
        "\n",
        "sum of all data points / count of datapoint -> 1+2+3/3\n",
        "\n",
        "## median\n",
        "mid value of dataset when it is sorted by ascending order\n",
        "\n",
        "## mode\n",
        "most frquently occuring data value"
      ],
      "metadata": {
        "id": "DuI3elB8SoU_"
      }
    },
    {
      "cell_type": "markdown",
      "source": [
        "# Measure of dispersion\n",
        "\n",
        "## variance\n",
        "determine how far each number is from the mean and from every other number in the set\n",
        "\n",
        "\n",
        "\n",
        "```\n",
        "σ² = ( Σ (x-μ)² ) / N\n",
        "```\n",
        "\n",
        "\n",
        "## std\n",
        "Standard deviation measures the dispersion or spread of a dataset around its mean.\n",
        "\n",
        "Formula:\n",
        "\n",
        "√( Σ (x-μ)² ) / N\n",
        "\n",
        "\n"
      ],
      "metadata": {
        "id": "mIocCZmLTwoD"
      }
    },
    {
      "cell_type": "markdown",
      "source": [
        "# Population mean and sample mean\n",
        "\n",
        "##Population Mean:\n",
        "\n",
        "The population mean (μ) represents the average value of the entire population.\n",
        "\n",
        "##Sample Mean:\n",
        "\n",
        "The sample mean x̄ represents the average value of a subset (sample) of the population."
      ],
      "metadata": {
        "id": "uH9WCt7GYtI1"
      }
    },
    {
      "cell_type": "markdown",
      "source": [
        "# Sampeling types\n",
        "\n",
        "1.   Simple Random Sampling\n",
        "2.   Stratified Sampling (age,gender)\n",
        "3.   Systematic Sampling (even position of elements)\n",
        "4.   Cluster Sampling (Villages in a Region)\n",
        "\n"
      ],
      "metadata": {
        "id": "JMqs3F3mZnIg"
      }
    },
    {
      "cell_type": "markdown",
      "source": [
        "#Variable and its types\n",
        "\n",
        "## **Categoriacal**\n",
        "\n",
        "### - Nominal\n",
        "#### gender : male ,female\n",
        "#### country : usa ,india\n",
        "\n",
        "### - ordinal\n",
        "#### education : high school, bachelor's,mater's\n",
        "#### rating : good, avg , bad\n",
        "\n",
        "## **Numeric**\n",
        "\n",
        "### - Continuous\n",
        "\n",
        "stock price (ITC - 473.12)\n",
        "heighr - 162.7\n",
        "\n",
        "### - Discrete\n",
        "\n",
        "num of persion in family\n",
        "num of laptop in office\n"
      ],
      "metadata": {
        "id": "dROASNxdbxLL"
      }
    },
    {
      "cell_type": "markdown",
      "source": [
        "# Frequency distribution  and cumulative frequancy\n",
        "## Frequency distribution\n",
        "Frequency in statistics means how often something happens or appears in a dataset.\n",
        "\n",
        "## cumulative frequancy\n",
        "\n",
        "the frequency of the first-class interval is added to the frequency of the second class, and this sum is added to the third class and so on then, frequencies that are obtained this way are known as cumulative frequency"
      ],
      "metadata": {
        "id": "onUWeO6Sh481"
      }
    },
    {
      "cell_type": "markdown",
      "source": [
        "# histogram\n",
        "A histogram in statistics is a graphical representation of the distribution of numerical data, where the data is divided into intervals called bins, and the height of each bar represents the frequency or relative frequency of data falling into each bin."
      ],
      "metadata": {
        "id": "QL7wm1c7jj8O"
      }
    },
    {
      "cell_type": "code",
      "source": [
        "import seaborn as sns\n",
        "import matplotlib.pyplot as plt\n",
        "import numpy as np\n",
        "\n",
        "data = [1,2,3,3,4,3,4,5,4,3,4,5,6,7,6,7,8,7,6,5,6,7,8]\n",
        "plt.figure(figsize=(8, 6))\n",
        "sns.histplot(data, bins=30, kde=True, color='skyblue', edgecolor='black')\n",
        "plt.title('Histogram Example', fontsize=16)\n",
        "plt.xlabel('Values', fontsize=14)\n",
        "plt.ylabel('Frequency', fontsize=14)\n",
        "plt.grid(True, linestyle='--', alpha=0.7)\n",
        "plt.xticks(fontsize=12)\n",
        "plt.yticks(fontsize=12)\n",
        "plt.show()\n"
      ],
      "metadata": {
        "id": "8joBHpY-R-5K"
      },
      "execution_count": null,
      "outputs": []
    },
    {
      "cell_type": "markdown",
      "source": [
        "# Perceltile and Quintile\n",
        "\n",
        "1. A percentile is statistical measure used to rank values in dataset\n",
        "indicating what percentage of the data falls below or equal to that value\n",
        "\n",
        "2. **25 Percentile**\n",
        "  The value below 25% of the data falls\n",
        "  it represents the lower qurtile\n",
        "\n",
        "3. **50 Percentile(Median)**\n",
        "   The middle value of the dataset;\n",
        "   it divied the dataset into half\n",
        "\n",
        "4. **75 Percentile**\n",
        "   The values below which 75% of the data falls;\n",
        "   it corresponding to the upper quartile"
      ],
      "metadata": {
        "id": "3gbYMmDEh-a-"
      }
    },
    {
      "cell_type": "markdown",
      "source": [
        "**Question:**\n",
        "\n",
        "In a class of 30 students, the scores obtained by the students in a math test are as follows:\n",
        "\n",
        "80, 75, 85, 90, 70, 60, 65, 95, 85, 88, 72, 78, 82, 68, 92, 84, 79, 88, 75, 85, 82, 90, 77, 83, 88, 75, 80, 86, 81, 78\n",
        "\n",
        "What is the **75th percentile** score?\n",
        "\n",
        "## 1. Arrange the scores in ascending order:\n",
        "60, 65, 68, 70, 72, 75, 75, 75, 77, 78, 78, 79, 80, 80, 81, 82, 82, 83, 84, 85, 85, 85, 86, 88, 88, 88, 90, 90, 92, 95\n",
        "\n",
        "\n",
        "\n",
        "\n",
        "```\n",
        "Position = (percentile/100)*(N+1)\n",
        "\n",
        "```\n",
        "\n",
        "\n",
        "\n",
        "```\n",
        "Position  -  position of the element in dataset\n",
        "\n",
        "```\n",
        "\n",
        "\n",
        "\n",
        "\n"
      ],
      "metadata": {
        "id": "r8jOJpkVkVR8"
      }
    },
    {
      "cell_type": "code",
      "source": [
        "import numpy as np\n",
        "\n",
        "# Sample dataset\n",
        "data = [60, 65, 68, 70, 72, 75, 75, 75, 77, 78, 78, 79, 80, 80, 81, 82, 82, 83, 84, 85, 85, 85, 86, 88, 88, 88, 90, 90, 92, 95]\n",
        "\n",
        "# Calculate the 25th percentile\n",
        "percentile_25 = np.percentile(data, 25)\n",
        "\n",
        "print(\"25th percentile:\", percentile_25)\n"
      ],
      "metadata": {
        "id": "EMOiZ6qBpRlJ"
      },
      "execution_count": null,
      "outputs": []
    },
    {
      "cell_type": "markdown",
      "source": [
        "## count percentile for X data point\n",
        "\n",
        "\n",
        "```\n",
        "% =( Count of numbers less than or equal to X / Total count of numbers ) * 100\n",
        "```\n",
        "\n"
      ],
      "metadata": {
        "id": "4R5FLdo6msX9"
      }
    },
    {
      "cell_type": "markdown",
      "source": [],
      "metadata": {
        "id": "jGfkwUQxlsIP"
      }
    },
    {
      "cell_type": "code",
      "source": [
        "def calculate_percentage_less_than_or_equal_to_x(data, x):\n",
        "    count_less_than_or_equal_to_x = sum(1 for num in data if num <= x)\n",
        "    total_count = len(data)\n",
        "    percentage = (count_less_than_or_equal_to_x / total_count) * 100\n",
        "    return percentage\n",
        "data = [60, 65, 68, 70, 72, 75, 75, 75, 77, 78, 78, 79, 80, 80, 81, 82, 82, 83, 84, 85, 85, 85, 86, 88, 88, 88, 90, 90, 92, 95]\n",
        "x = 86\n",
        "percentage = calculate_percentage_less_than_or_equal_to_x(data, x)\n",
        "print(f\"The percentage of numbers less than or equal to {x} is: {percentage}%\")\n"
      ],
      "metadata": {
        "id": "criC6S45nZs1"
      },
      "execution_count": null,
      "outputs": []
    },
    {
      "cell_type": "code",
      "source": [],
      "metadata": {
        "id": "OP7c4yIrneU7"
      },
      "execution_count": null,
      "outputs": []
    },
    {
      "cell_type": "markdown",
      "source": [
        "# Range and IQR\n",
        "\n",
        "IQR and Range  refers to measure of dispersion or variablity\n",
        "IQR is diffrence between q3 and q1 showing\n",
        "\n",
        "Range calculated as max-min reflect data spread of the middle 50% of data\n",
        "\n",
        "\n",
        "```\n",
        "Range = Maximum value - Minimum value\n",
        "```\n",
        "\n",
        "\n"
      ],
      "metadata": {
        "id": "gs-bWY4UsWSk"
      }
    },
    {
      "cell_type": "markdown",
      "source": [
        "## IQR\n",
        "\n",
        "\n",
        "\n",
        "```\n",
        "IQR = Q3 - Q1\n",
        "\n",
        "Lower Bound:  \n",
        "Q1 - 1.5(IQR)\n",
        "\n",
        "Upper Bound:\n",
        "\n",
        "Q3+1.5(IQR)\n",
        "```\n",
        "\n",
        "\n"
      ],
      "metadata": {
        "id": "HqYguDfqtBYo"
      }
    },
    {
      "cell_type": "markdown",
      "source": [],
      "metadata": {
        "id": "P6dgdnrxSQvG"
      }
    },
    {
      "cell_type": "markdown",
      "source": [
        "# Box-and-whisker plot\n",
        "\n",
        "\n",
        "Identify outliers using boxplot\n"
      ],
      "metadata": {
        "id": "BJVUhfZ8vEeN"
      }
    },
    {
      "cell_type": "markdown",
      "source": [],
      "metadata": {
        "id": "_ZDEWC94vHSK"
      }
    },
    {
      "cell_type": "code",
      "source": [
        "import matplotlib.pyplot as plt\n",
        "import numpy as np\n",
        "\n",
        "# Example dataset with outliers\n",
        "np.random.seed(10)  # For reproducibility\n",
        "data = np.concatenate([np.random.normal(loc=0, scale=1, size=50),\n",
        "                       np.random.normal(loc=5, scale=1, size=10)])  # Introducing outliers\n",
        "\n",
        "# Create a boxplot with outliers\n",
        "plt.figure(figsize=(8, 6))\n",
        "plt.boxplot(data, vert=False, patch_artist=True, boxprops=dict(facecolor=\"lightblue\"))\n",
        "plt.title('Boxplot with Outliers')\n",
        "plt.xlabel('Values')\n",
        "plt.grid(True)\n",
        "plt.show()\n",
        "\n",
        "# Create a boxplot without outliers\n",
        "plt.figure(figsize=(8, 6))\n",
        "plt.boxplot(data, vert=False, patch_artist=True, boxprops=dict(facecolor=\"lightblue\"), showfliers=False)\n",
        "plt.title('Boxplot without Outliers')\n",
        "plt.xlabel('Values')\n",
        "plt.grid(True)\n",
        "plt.show()\n"
      ],
      "metadata": {
        "id": "mHYoQV9bvEPo"
      },
      "execution_count": null,
      "outputs": []
    },
    {
      "cell_type": "markdown",
      "source": [
        "#empirical rule\n",
        " The empirical rule describes the approximate percentages of data values within a certain number of standard deviations from the mean in a normal distribution.\n",
        "\n",
        "\n",
        " Example:\n",
        "Suppose the scores of students on a standardized test follow a normal distribution with a mean (average) score of 80 and a standard deviation of 10.\n",
        "\n",
        "What percentage of students scored between 70 and 90?\n",
        "\n",
        "\n",
        "\n",
        "```\n",
        " percentage of students scored = (datapoint-mean/std)\n",
        "\n",
        "lower = 70-80/10 = -1     (-1 Q1)\n",
        "upper = 90-80/10 = +1     (+1 Q3)\n",
        "```\n",
        "\n",
        "\n",
        "\n",
        "According to the empirical rule, within one standard deviation of the mean (80 ± 10), approximately 68% of students scored between 70 and 90.\n",
        "What percentage of students scored between 60 and 100?\n",
        "\n",
        "Within two standard deviations of the mean (80 ± 20), approximately 95% of students scored between 60 and 100."
      ],
      "metadata": {
        "id": "1A28wts1RE1q"
      }
    },
    {
      "cell_type": "code",
      "source": [
        "import numpy as np\n",
        "import matplotlib.pyplot as plt\n",
        "from scipy.stats import norm\n",
        "\n",
        "# Generate data for the normal distribution\n",
        "mean = 0\n",
        "std_dev = 1\n",
        "x = np.linspace(-5, 5, 1000)\n",
        "y = norm.pdf(x, mean, std_dev)\n",
        "\n",
        "# Plot the normal distribution\n",
        "plt.plot(x, y, 'b-', linewidth=2)\n",
        "\n",
        "# Shade the area corresponding to different percentages of the distribution\n",
        "# 68% within one standard deviation\n",
        "plt.fill_between(x, y, where=np.logical_and(x >= mean - std_dev, x <= mean + std_dev), color='black', alpha=0.5, label='68%')\n",
        "# 95% within two standard deviations\n",
        "plt.fill_between(x, y, where=np.logical_and(x >= mean - 2*std_dev, x <= mean + 2*std_dev), color='yellow', alpha=0.5, label='95%')\n",
        "# 99.7% within three standard deviations\n",
        "plt.fill_between(x, y, where=np.logical_and(x >= mean - 3*std_dev, x <= mean + 3*std_dev), color='green', alpha=0.5, label='99.7%')\n",
        "\n",
        "# Add labels and legend\n",
        "plt.xlabel('x')\n",
        "plt.ylabel('Probability Density')\n",
        "plt.title('Normal Distribution and Empirical Rule')\n",
        "plt.legend()\n",
        "\n",
        "# Show plot\n",
        "plt.grid(True)\n",
        "plt.show()\n"
      ],
      "metadata": {
        "id": "Mmpbm6PEl9eV"
      },
      "execution_count": null,
      "outputs": []
    },
    {
      "cell_type": "markdown",
      "source": [
        "# Z - score\n",
        "how many standard diviation away a data point is from the mean"
      ],
      "metadata": {
        "id": "UmLpHvf2S_7B"
      }
    },
    {
      "cell_type": "markdown",
      "source": [
        "\n",
        "\n",
        "```\n",
        "z = (X − μ / σ)\n",
        "\n",
        "\n",
        "X is the value you want to standardize.\n",
        "\n",
        "μ is the mean of the distribution.\n",
        "\n",
        "σ is the standard deviation of the distribution.\n",
        "\n",
        "z is the z-score.\n",
        "\n",
        "\n",
        "```\n",
        "\n"
      ],
      "metadata": {
        "id": "1iY9J_mNT6At"
      }
    },
    {
      "cell_type": "markdown",
      "source": [
        "#Standardization\n",
        "it is a data preprocessing technique used to rescale the features of a dataset so that they have a mean of 0 and a standard deviation of 1. This process involves subtracting the mean of each feature from the data point and then dividing by the standard deviation of the feature. Mathematically, for a feature\n",
        "\n",
        "z = (X − μ / σ)\n",
        "\n",
        "# Normalization\n",
        "it is a data preprocessing technique used to scale the values of features in a dataset to a specific range, often between 0 and 1. The goal of normalization is to adjust the values of the features so that they are on a similar scale, making them easier to compare and interpret.\n",
        "\n",
        "Xnorm = X-Xmin / (max(X) - min(X))"
      ],
      "metadata": {
        "id": "NfAeP5DijmFx"
      }
    },
    {
      "cell_type": "markdown",
      "source": [
        "# standard normal distribution\n",
        "\n",
        "A standard normal distribution is a normal distribution with a mean of 0 and a standard deviation of 1. It is a special case of the normal distribution that is commonly used in statistical analysis and hypothesis testing."
      ],
      "metadata": {
        "id": "bETcLd35n97s"
      }
    },
    {
      "cell_type": "code",
      "source": [
        "import numpy as np\n",
        "import matplotlib.pyplot as plt\n",
        "from scipy.stats import norm\n",
        "\n",
        "# Generate data for the standard normal distribution\n",
        "x = np.linspace(-3, 3, 1000)\n",
        "y = norm.pdf(x, 0, 1)  # Mean = 0, Standard deviation = 1\n",
        "\n",
        "# Plot the standard normal distribution\n",
        "plt.plot(x, y, 'b-', linewidth=2)\n",
        "\n",
        "# Shade the area within +/- 3 standard deviations from the mean\n",
        "plt.fill_between(x, y, where=np.logical_and(x >= -3, x <= 3), color='lightgray', alpha=0.5)\n",
        "\n",
        "# Add labels and title\n",
        "plt.xlabel('z-score')\n",
        "plt.ylabel('Probability Density')\n",
        "plt.title('Standard Normal Distribution (z-score ±3)')\n",
        "\n",
        "# Show plot\n",
        "plt.grid(True)\n",
        "plt.show()\n"
      ],
      "metadata": {
        "id": "eyiIrZWhvb3C"
      },
      "execution_count": null,
      "outputs": []
    },
    {
      "cell_type": "code",
      "source": [],
      "metadata": {
        "id": "rbey8UR2MZ3J"
      },
      "execution_count": null,
      "outputs": []
    },
    {
      "cell_type": "markdown",
      "source": [
        "#Central Limit Theorem\n",
        "If you were to repeatedly take random samples of, say, 30 students' heights from this population and calculate the mean height of each sample, the distribution of these sample means will be approximately normal, regardless of the original shape of the population distribution."
      ],
      "metadata": {
        "id": "kiXvp4QQp7u8"
      }
    },
    {
      "cell_type": "code",
      "source": [
        "import numpy as np\n",
        "import matplotlib.pyplot as plt\n",
        "from scipy.stats import norm\n",
        "\n",
        "# Parameters\n",
        "population_mean = 100  # Mean of the population\n",
        "population_std = 20    # Standard deviation of the population\n",
        "sample_sizes = [10, 30, 50, 100]  # Different sample sizes\n",
        "num_samples = 1000     # Number of samples to generate for each size\n",
        "\n",
        "# Generate samples from a population\n",
        "population = np.random.normal(population_mean, population_std, size=num_samples)\n",
        "\n",
        "# Plot population distribution\n",
        "plt.figure(figsize=(8, 6))\n",
        "plt.hist(population, bins=30, density=True, color='skyblue', edgecolor='black')\n",
        "plt.title('Population Distribution')\n",
        "plt.xlabel('Values')\n",
        "plt.ylabel('Probability Density')\n",
        "\n",
        "# Calculate mean and standard deviation of population\n",
        "mean_population = np.mean(population)\n",
        "std_population = np.std(population)\n",
        "\n",
        "# Generate x values for the bell curve\n",
        "x_population = np.linspace(mean_population - 3*std_population, mean_population + 3*std_population, 1000)\n",
        "\n",
        "# Plot the bell curve for population\n",
        "plt.plot(x_population, norm.pdf(x_population, mean_population, std_population), color='red', linewidth=2, label='Normal Distribution')\n",
        "plt.legend()\n",
        "\n",
        "# Plot histograms for different sample sizes\n",
        "plt.figure(figsize=(12, 8))\n",
        "for i, sample_size in enumerate(sample_sizes, 1):\n",
        "    sample_means = [np.mean(np.random.choice(population, size=sample_size)) for _ in range(num_samples)]\n",
        "    plt.subplot(2, 2, i)\n",
        "    plt.hist(sample_means, bins=30, density=True, color='skyblue', edgecolor='black', label='Sample Means')\n",
        "\n",
        "    # Calculate mean and standard deviation of sample means\n",
        "    mean_sample_means = np.mean(sample_means)\n",
        "    std_sample_means = np.std(sample_means)\n",
        "\n",
        "    # Generate x values for the bell curve\n",
        "    x_sample = np.linspace(mean_sample_means - 3*std_sample_means, mean_sample_means + 3*std_sample_means, 1000)\n",
        "\n",
        "    # Plot the bell curve for sample means\n",
        "    plt.plot(x_sample, norm.pdf(x_sample, mean_sample_means, std_sample_means), color='red', linewidth=2, label='Normal Distribution')\n",
        "\n",
        "    plt.title(f'Sample Size: {sample_size}')\n",
        "    plt.xlabel('Sample Mean')\n",
        "    plt.ylabel('Probability Density')\n",
        "    plt.legend()\n",
        "\n",
        "# Adjust layout\n",
        "plt.tight_layout()\n",
        "plt.show()\n"
      ],
      "metadata": {
        "id": "829BfadsotF7"
      },
      "execution_count": null,
      "outputs": []
    },
    {
      "cell_type": "code",
      "source": [],
      "metadata": {
        "id": "5-KjAGpJqHyq"
      },
      "execution_count": null,
      "outputs": []
    },
    {
      "cell_type": "code",
      "source": [],
      "metadata": {
        "id": "rcygkMseq73i"
      },
      "execution_count": null,
      "outputs": []
    }
  ]
}